{
 "cells": [
  {
   "cell_type": "code",
   "execution_count": 2,
   "metadata": {},
   "outputs": [
    {
     "name": "stdout",
     "output_type": "stream",
     "text": [
      "{1: 3, 2: 2, 3: 3, 4: 4}\n"
     ]
    }
   ],
   "source": [
    "def to_dict(lst):\n",
    "    d = {}\n",
    "    for elem in lst:\n",
    "        d[elem] = elem\n",
    "    return d\n",
    "    return {element: element for element in lst}\n",
    "\n",
    "\n",
    "#dictionary = {1: 1, 2: 2}\n",
    "\n",
    "a = to_dict([1, 2, 3, 4])\n",
    "a[1] = 3\n",
    "print(a)"
   ]
  }
 ],
 "metadata": {
  "kernelspec": {
   "display_name": "Python 3",
   "language": "python",
   "name": "python3"
  },
  "language_info": {
   "codemirror_mode": {
    "name": "ipython",
    "version": 3
   },
   "file_extension": ".py",
   "mimetype": "text/x-python",
   "name": "python",
   "nbconvert_exporter": "python",
   "pygments_lexer": "ipython3",
   "version": "3.10.2"
  }
 },
 "nbformat": 4,
 "nbformat_minor": 2
}
