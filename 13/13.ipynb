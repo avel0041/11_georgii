{
 "cells": [
  {
   "cell_type": "code",
   "execution_count": null,
   "metadata": {},
   "outputs": [],
   "source": [
    "import math\n",
    "print(2**11-((math.factorial(11))/(math.factorial(4)*math.factorial(7))+(math.factorial(11))/(math.factorial(9)*math.factorial(2))))\n",
    "\n",
    "count = 0\n",
    "for x in range(2**11):\n",
    "    s = bin(x)[2:]\n",
    "    if (8 + s.count('1'))%5 != 0:\n",
    "        count += 1\n",
    "print(count)"
   ]
  }
 ],
 "metadata": {
  "kernelspec": {
   "display_name": "Python 3",
   "language": "python",
   "name": "python3"
  },
  "language_info": {
   "name": "python",
   "version": "3.10.2"
  }
 },
 "nbformat": 4,
 "nbformat_minor": 2
}
