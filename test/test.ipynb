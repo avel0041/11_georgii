{
 "cells": [
  {
   "cell_type": "code",
   "execution_count": 2,
   "metadata": {},
   "outputs": [
    {
     "name": "stdout",
     "output_type": "stream",
     "text": [
      "74\n"
     ]
    }
   ],
   "source": [
    "def A5(w):\n",
    "    a=str()\n",
    "    while w !=0:\n",
    "        a+=str(w%5)\n",
    "        w=w//5\n",
    "    b=a[::-1]\n",
    "    return(b)\n",
    "\n",
    "a=[]\n",
    "for r in range(0, 1000):\n",
    "    n=A5(r)\n",
    "    c=len(n)\n",
    "    if c%2 ==0:\n",
    "        n=str(n[:len(n)//2])+'0'+str(n[len(n)//2:])\n",
    "    d=int(n)\n",
    "    if d <=250:\n",
    "        a.append(r)\n",
    "\n",
    "print(max(a))\n",
    "        \n",
    "\n"
   ]
  },
  {
   "cell_type": "markdown",
   "metadata": {},
   "source": [
    "Семён составляет слова путем перестановки букв в слове ХОЧУНАБЮДЖЕТ. Сколько слов может составить Семён, если известно, что слова с пятью подряд идущими гласными буквами запрещены?"
   ]
  },
  {
   "cell_type": "code",
   "execution_count": null,
   "metadata": {},
   "outputs": [],
   "source": []
  }
 ],
 "metadata": {
  "kernelspec": {
   "display_name": "Python 3",
   "language": "python",
   "name": "python3"
  },
  "language_info": {
   "codemirror_mode": {
    "name": "ipython",
    "version": 3
   },
   "file_extension": ".py",
   "mimetype": "text/x-python",
   "name": "python",
   "nbconvert_exporter": "python",
   "pygments_lexer": "ipython3",
   "version": "3.10.2"
  }
 },
 "nbformat": 4,
 "nbformat_minor": 2
}
